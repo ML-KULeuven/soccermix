{
 "cells": [
  {
   "cell_type": "code",
   "execution_count": 1,
   "metadata": {},
   "outputs": [],
   "source": [
    "%load_ext autoreload\n",
    "%autoreload 2\n",
    "import os; import sys; sys.path.insert(0, '../')\n",
    "import pandas as pd\n",
    "import tqdm\n",
    "import pickle\n",
    "\n",
    "import numpy as np\n",
    "import warnings"
   ]
  },
  {
   "cell_type": "code",
   "execution_count": 2,
   "metadata": {},
   "outputs": [],
   "source": [
    "### Configure file and folder names\n",
    "data_h5 = \"../data/paper/soccermix_all_data.h5\"\n",
    "\n",
    "d_weights = \"../data/paper/soccermix_all_dirweights.pkl\"\n",
    "\n",
    "spadl_h5 = \"../data/tomd/spadl-statsbomb.h5\""
   ]
  },
  {
   "cell_type": "code",
   "execution_count": 3,
   "metadata": {},
   "outputs": [],
   "source": [
    "X = pd.read_hdf(data_h5, \"X\")"
   ]
  },
  {
   "cell_type": "code",
   "execution_count": 4,
   "metadata": {},
   "outputs": [],
   "source": [
    "def loadall(filename):\n",
    "    with open(filename, \"rb\") as f:\n",
    "        while True:\n",
    "            try:\n",
    "                yield pickle.load(f)\n",
    "            except EOFError:\n",
    "                break\n",
    "\n",
    "d_w = loadall(d_weights)"
   ]
  },
  {
   "cell_type": "code",
   "execution_count": 5,
   "metadata": {},
   "outputs": [],
   "source": [
    "dir_weights = next(d_w)"
   ]
  },
  {
   "cell_type": "code",
   "execution_count": 6,
   "metadata": {},
   "outputs": [],
   "source": [
    "games = pd.read_hdf(spadl_h5, \"games\")\n",
    "\n",
    "games_1819 = games[games.season_name == '2018/2019']\n",
    "games_1718 = games[games.season_name == '2017/2018']"
   ]
  },
  {
   "cell_type": "code",
   "execution_count": 7,
   "metadata": {},
   "outputs": [],
   "source": [
    "players = pd.read_hdf(spadl_h5, \"players\")\n",
    "pg = pd.read_hdf(spadl_h5, \"player_games\")"
   ]
  },
  {
   "cell_type": "code",
   "execution_count": 8,
   "metadata": {},
   "outputs": [],
   "source": [
    "pg_1819 = pg[pg.game_id.isin(games_1819.game_id)]\n",
    "pg_1718 = pg[pg.game_id.isin(games_1718.game_id)]"
   ]
  },
  {
   "cell_type": "code",
   "execution_count": 9,
   "metadata": {},
   "outputs": [],
   "source": [
    "players_1819 = players[players.player_id.isin(pg_1819.player_id)]\n",
    "players_1718 = players[players.player_id.isin(pg_1718.player_id)]"
   ]
  },
  {
   "cell_type": "code",
   "execution_count": 10,
   "metadata": {},
   "outputs": [],
   "source": [
    "mp_1819 = pg_1819[[\"player_id\", \"minutes_played\"]].groupby(\"player_id\").sum().reset_index()\n",
    "mp_1718 = pg_1718[[\"player_id\", \"minutes_played\"]].groupby(\"player_id\").sum().reset_index()"
   ]
  },
  {
   "cell_type": "code",
   "execution_count": 11,
   "metadata": {},
   "outputs": [
    {
     "name": "stderr",
     "output_type": "stream",
     "text": [
      "100%|██████████| 515/515 [02:00<00:00,  4.29it/s]\n",
      "100%|██████████| 505/505 [01:46<00:00,  4.73it/s]\n"
     ]
    }
   ],
   "source": [
    "# Get player vectors\n",
    "\n",
    "merged_weights = dir_weights.copy()\n",
    "merged_weights[\"player_id\"] = X.player_id.values\n",
    "merged_weights[\"game_id\"] = X.game_id.values\n",
    "\n",
    "vectors_1718 = {}\n",
    "for p in tqdm.tqdm(list(players_1718.player_id.unique())):\n",
    "    vectors_1718[int(p)] = merged_weights.loc[((merged_weights.player_id == p)\n",
    "                                              & (merged_weights.game_id.isin(games_1718.game_id))),\n",
    "                                              dir_weights.columns].sum().values\n",
    "    \n",
    "vectors_1819 = {}\n",
    "for p in tqdm.tqdm(list(players_1819.player_id.unique())):\n",
    "    vectors_1819[int(p)] = merged_weights.loc[((merged_weights.player_id == p)\n",
    "                                              & (merged_weights.game_id.isin(games_1819.game_id))),\n",
    "                                              dir_weights.columns].sum().values\n",
    "    \n",
    "vectors_1718_pd = pd.concat({k: pd.DataFrame(v).T for k,v in vectors_1718.items()}).droplevel(level=1)\n",
    "vectors_1718_pd.index.name = \"player_id\"\n",
    "vectors_1718_pd.columns = dir_weights.columns\n",
    "\n",
    "vectors_1819_pd = pd.concat({k: pd.DataFrame(v).T for k,v in vectors_1819.items()}).droplevel(level=1)\n",
    "vectors_1819_pd.index.name = \"player_id\"\n",
    "vectors_1819_pd.columns = dir_weights.columns"
   ]
  },
  {
   "cell_type": "code",
   "execution_count": 12,
   "metadata": {},
   "outputs": [],
   "source": [
    "# Normalize vectors per 90 min game time\n",
    "\n",
    "vectors_1718_norm = pd.merge(vectors_1718_pd, mp_1718, left_index=True, right_on='player_id').set_index('player_id')\n",
    "df1 = vectors_1718_norm.loc[:, dir_weights.columns] * 90\n",
    "vectors_1718_norm.loc[:, dir_weights.columns] = df1.divide(vectors_1718_norm.minutes_played, axis='rows')\n",
    "vectors_1718_norm.drop(columns=['minutes_played'], inplace=True)\n",
    "\n",
    "vectors_1819_norm = pd.merge(vectors_1819_pd, mp_1819, left_index=True, right_on='player_id').set_index('player_id')\n",
    "df1 = vectors_1819_norm.loc[:, dir_weights.columns] * 90\n",
    "vectors_1819_norm.loc[:, dir_weights.columns] = df1.divide(vectors_1819_norm.minutes_played, axis='rows')\n",
    "vectors_1819_norm.drop(columns=['minutes_played'], inplace=True)"
   ]
  },
  {
   "cell_type": "code",
   "execution_count": 13,
   "metadata": {},
   "outputs": [],
   "source": [
    "# Code below mainly from Pieter's implementation of this experiment with soccer vectors\n",
    "# https://github.com/probberechts/soccer-player-vectors-thesis/blob/master/notebooks/5-experiments.ipynb\n",
    "\n",
    "# Select correct players to test on \n",
    "\n",
    "train_players = pg_1718.groupby('player_id').agg({\n",
    "    'minutes_played': 'sum',\n",
    "    'team_id': set\n",
    "}).merge(players_1718, on=\"player_id\", how='left')\n",
    "\n",
    "test_players = pg_1819.groupby('player_id').agg({\n",
    "    'minutes_played': 'sum',\n",
    "    'team_id': set\n",
    "}).merge(players_1819, on=\"player_id\", how='left')"
   ]
  },
  {
   "cell_type": "code",
   "execution_count": 14,
   "metadata": {},
   "outputs": [],
   "source": [
    "all_players = pd.merge(train_players, test_players, on=\"player_id\", suffixes=(\"_train\", \"_test\"))\n",
    "all_players['nb_teams'] = all_players.apply(lambda x: len(x.team_id_train | x.team_id_test), axis=1)\n",
    "all_players = all_players[all_players.nb_teams == 1]"
   ]
  },
  {
   "cell_type": "code",
   "execution_count": 15,
   "metadata": {},
   "outputs": [],
   "source": [
    "# Only players who played >= 900 minutes in both train and test season\n",
    "all_players = all_players[(all_players.minutes_played_train >= 900) & (all_players.minutes_played_test >= 900)]"
   ]
  },
  {
   "cell_type": "code",
   "execution_count": 16,
   "metadata": {},
   "outputs": [
    {
     "name": "stdout",
     "output_type": "stream",
     "text": [
      "Number of players:  193\n"
     ]
    }
   ],
   "source": [
    "all_players = all_players.player_id.unique()\n",
    "print(\"Number of players: \", len(all_players))"
   ]
  },
  {
   "cell_type": "code",
   "execution_count": 17,
   "metadata": {},
   "outputs": [],
   "source": [
    "# Compute pairwise distances\n",
    "\n",
    "from sklearn.metrics import pairwise_distances\n",
    "from sklearn import preprocessing\n",
    "\n",
    "# D = pairwise_distances(\n",
    "#     vectors_1718_norm.loc[all_players],\n",
    "#     vectors_1819_norm.loc[all_players],\n",
    "#     metric='manhattan'\n",
    "# )\n",
    "\n",
    "D = pairwise_distances(\n",
    "    preprocessing.normalize(vectors_1718_norm.loc[all_players], norm=\"l1\"),\n",
    "    preprocessing.normalize(vectors_1819_norm.loc[all_players], norm=\"l1\"),\n",
    "    metric=\"manhattan\")\n",
    "\n",
    "# sort each row\n",
    "k_d = np.sort(D, axis = 1) \n",
    "# sort each row and replace distances by index\n",
    "k_i = np.argsort(D, axis = 1) \n",
    "# replace indices by player ids\n",
    "p_i = np.take(all_players, k_i, axis = 0)"
   ]
  },
  {
   "cell_type": "code",
   "execution_count": 18,
   "metadata": {},
   "outputs": [
    {
     "data": {
      "text/plain": [
       "array([ 13,   1,   4,   0,   4,   0,  90,   0,   0,   0,   0,   0,   0,\n",
       "         4,   0,   0,   0,   0,  20,   6,   0,   0,  13,   0,   1,   0,\n",
       "         5,   0,   0,  29,   0,   3,   2,   1,  15,   1,   1, 142,   0,\n",
       "         1,   1,   0,   0,   0,   3,   0,   0,   0,   6,   7,   1,   0,\n",
       "         0,   4,   5,   0,   0,   0,   0,   0,   2,   7,   0,  15,   0,\n",
       "         7,   0,   5,   2,   0,   0,  11,   5,  12,   0,   0,   4,   0,\n",
       "         0,   2,   0,   1,   0,   0,   0,  60,   0,   8,   3,   0,   8,\n",
       "         2,   0,   0,   0,  10,  13,   0,   0,   3,  25,  27,  23,   0,\n",
       "         2,   0,   0,  34,   0,   1,  20,   1,   0,   0,   1,   0,   2,\n",
       "        16,   3,   0,   0,   0,  13,   1,  11,  11,   9,   0,   8,   3,\n",
       "       158,   0,   0, 106,   0,   0,   0,   5,   0,   4,   0,  40,   1,\n",
       "         0,  90,   6,   0,   0,   0,   0,   0,   0,   0,   0,   1,   4,\n",
       "         1,   0,   0,   0,   2,   0,   6,   0,   1,   0,   0,  24,  11,\n",
       "        37,  11,  17,   4,   4,  73,  53,   1,   1,   6,   2,   0,   0,\n",
       "        31,   0,   3,   0,   0,   0,  15,  14,  15,   3,   6])"
      ]
     },
     "execution_count": 18,
     "metadata": {},
     "output_type": "execute_result"
    }
   ],
   "source": [
    "rs = np.argmax(np.array([p_i[i,:] == all_players[i] for i in range(p_i.shape[0])]), axis=1)\n",
    "rs"
   ]
  },
  {
   "cell_type": "code",
   "execution_count": 19,
   "metadata": {},
   "outputs": [],
   "source": [
    "def mean_reciprocal_rank(rs):\n",
    "    return np.mean(1. / (rs + 1))\n",
    "\n",
    "def top_k(rs, k):\n",
    "    return (rs < k).sum() / len(rs)"
   ]
  },
  {
   "cell_type": "code",
   "execution_count": 20,
   "metadata": {},
   "outputs": [
    {
     "data": {
      "text/plain": [
       "0.5885390745244184"
      ]
     },
     "execution_count": 20,
     "metadata": {},
     "output_type": "execute_result"
    }
   ],
   "source": [
    "mean_reciprocal_rank(rs)"
   ]
  },
  {
   "cell_type": "code",
   "execution_count": 21,
   "metadata": {},
   "outputs": [
    {
     "data": {
      "text/plain": [
       "0.8082901554404145"
      ]
     },
     "execution_count": 21,
     "metadata": {},
     "output_type": "execute_result"
    }
   ],
   "source": [
    "top_k(rs, 10)"
   ]
  },
  {
   "cell_type": "code",
   "execution_count": 22,
   "metadata": {},
   "outputs": [
    {
     "name": "stdout",
     "output_type": "stream",
     "text": [
      "0.7150259067357513\n",
      "0.6269430051813472\n",
      "0.48186528497409326\n"
     ]
    }
   ],
   "source": [
    "print(top_k(rs, 5))\n",
    "print(top_k(rs, 3))\n",
    "print(top_k(rs, 1))"
   ]
  },
  {
   "cell_type": "markdown",
   "metadata": {},
   "source": [
    "# Get similar players to player"
   ]
  },
  {
   "cell_type": "code",
   "execution_count": 23,
   "metadata": {},
   "outputs": [],
   "source": [
    "def get_similar_players(player_id):\n",
    "    player_index = np.where(all_players == player_id)[0][0]\n",
    "    print(player_index)\n",
    "    sims = p_i[player_index,:]\n",
    "    names = players_1819.set_index(\"player_id\").loc[sims, \"player_name\"].values\n",
    "    dists = k_d[player_index,:]\n",
    "    return pd.DataFrame({\"name\": names, \"dist\": dists})"
   ]
  },
  {
   "cell_type": "code",
   "execution_count": 24,
   "metadata": {},
   "outputs": [
    {
     "name": "stdout",
     "output_type": "stream",
     "text": [
      "55    3202\n",
      "Name: player_id, dtype: int64\n",
      "48    3202\n",
      "Name: player_id, dtype: int64\n",
      "60    3237\n",
      "Name: player_id, dtype: int64\n",
      "53    3237\n",
      "Name: player_id, dtype: int64\n"
     ]
    }
   ],
   "source": [
    "print(train_players[train_players.player_name.str.contains('Jesus')].player_id)\n",
    "print(test_players[test_players.player_name.str.contains('Jesus')].player_id)\n",
    "\n",
    "print(train_players[train_players.player_name.str.contains('Agüero')].player_id)\n",
    "print(test_players[test_players.player_name.str.contains('Agüero')].player_id)"
   ]
  },
  {
   "cell_type": "code",
   "execution_count": 25,
   "metadata": {},
   "outputs": [
    {
     "name": "stdout",
     "output_type": "stream",
     "text": [
      "43\n"
     ]
    },
    {
     "data": {
      "text/html": [
       "<div>\n",
       "<style scoped>\n",
       "    .dataframe tbody tr th:only-of-type {\n",
       "        vertical-align: middle;\n",
       "    }\n",
       "\n",
       "    .dataframe tbody tr th {\n",
       "        vertical-align: top;\n",
       "    }\n",
       "\n",
       "    .dataframe thead th {\n",
       "        text-align: right;\n",
       "    }\n",
       "</style>\n",
       "<table border=\"1\" class=\"dataframe\">\n",
       "  <thead>\n",
       "    <tr style=\"text-align: right;\">\n",
       "      <th></th>\n",
       "      <th>name</th>\n",
       "      <th>dist</th>\n",
       "    </tr>\n",
       "  </thead>\n",
       "  <tbody>\n",
       "    <tr>\n",
       "      <th>0</th>\n",
       "      <td>Sergio Leonel Agüero del Castillo</td>\n",
       "      <td>0.208176</td>\n",
       "    </tr>\n",
       "    <tr>\n",
       "      <th>1</th>\n",
       "      <td>Marko Arnautović</td>\n",
       "      <td>0.293974</td>\n",
       "    </tr>\n",
       "    <tr>\n",
       "      <th>2</th>\n",
       "      <td>Gabriel Fernando de Jesus</td>\n",
       "      <td>0.319744</td>\n",
       "    </tr>\n",
       "    <tr>\n",
       "      <th>3</th>\n",
       "      <td>Cenk Tosun</td>\n",
       "      <td>0.322811</td>\n",
       "    </tr>\n",
       "    <tr>\n",
       "      <th>4</th>\n",
       "      <td>Jamie Vardy</td>\n",
       "      <td>0.349722</td>\n",
       "    </tr>\n",
       "    <tr>\n",
       "      <th>...</th>\n",
       "      <td>...</td>\n",
       "      <td>...</td>\n",
       "    </tr>\n",
       "    <tr>\n",
       "      <th>188</th>\n",
       "      <td>Alex McCarthy</td>\n",
       "      <td>1.914147</td>\n",
       "    </tr>\n",
       "    <tr>\n",
       "      <th>189</th>\n",
       "      <td>Martin Dúbravka</td>\n",
       "      <td>1.914678</td>\n",
       "    </tr>\n",
       "    <tr>\n",
       "      <th>190</th>\n",
       "      <td>Asmir Begović</td>\n",
       "      <td>1.915225</td>\n",
       "    </tr>\n",
       "    <tr>\n",
       "      <th>191</th>\n",
       "      <td>Hugo Lloris</td>\n",
       "      <td>1.924485</td>\n",
       "    </tr>\n",
       "    <tr>\n",
       "      <th>192</th>\n",
       "      <td>David de Gea Quintana</td>\n",
       "      <td>1.924613</td>\n",
       "    </tr>\n",
       "  </tbody>\n",
       "</table>\n",
       "<p>193 rows × 2 columns</p>\n",
       "</div>"
      ],
      "text/plain": [
       "                                  name      dist\n",
       "0    Sergio Leonel Agüero del Castillo  0.208176\n",
       "1                     Marko Arnautović  0.293974\n",
       "2            Gabriel Fernando de Jesus  0.319744\n",
       "3                           Cenk Tosun  0.322811\n",
       "4                          Jamie Vardy  0.349722\n",
       "..                                 ...       ...\n",
       "188                      Alex McCarthy  1.914147\n",
       "189                    Martin Dúbravka  1.914678\n",
       "190                      Asmir Begović  1.915225\n",
       "191                        Hugo Lloris  1.924485\n",
       "192              David de Gea Quintana  1.924613\n",
       "\n",
       "[193 rows x 2 columns]"
      ]
     },
     "execution_count": 25,
     "metadata": {},
     "output_type": "execute_result"
    }
   ],
   "source": [
    "get_similar_players(3237) # Similar to Aguero"
   ]
  },
  {
   "cell_type": "code",
   "execution_count": 26,
   "metadata": {
    "scrolled": false
   },
   "outputs": [
    {
     "name": "stdout",
     "output_type": "stream",
     "text": [
      "39\n"
     ]
    },
    {
     "data": {
      "text/html": [
       "<div>\n",
       "<style scoped>\n",
       "    .dataframe tbody tr th:only-of-type {\n",
       "        vertical-align: middle;\n",
       "    }\n",
       "\n",
       "    .dataframe tbody tr th {\n",
       "        vertical-align: top;\n",
       "    }\n",
       "\n",
       "    .dataframe thead th {\n",
       "        text-align: right;\n",
       "    }\n",
       "</style>\n",
       "<table border=\"1\" class=\"dataframe\">\n",
       "  <thead>\n",
       "    <tr style=\"text-align: right;\">\n",
       "      <th></th>\n",
       "      <th>name</th>\n",
       "      <th>dist</th>\n",
       "    </tr>\n",
       "  </thead>\n",
       "  <tbody>\n",
       "    <tr>\n",
       "      <th>0</th>\n",
       "      <td>Sergio Leonel Agüero del Castillo</td>\n",
       "      <td>0.232574</td>\n",
       "    </tr>\n",
       "    <tr>\n",
       "      <th>1</th>\n",
       "      <td>Gabriel Fernando de Jesus</td>\n",
       "      <td>0.235393</td>\n",
       "    </tr>\n",
       "    <tr>\n",
       "      <th>2</th>\n",
       "      <td>Jamie Vardy</td>\n",
       "      <td>0.289722</td>\n",
       "    </tr>\n",
       "    <tr>\n",
       "      <th>3</th>\n",
       "      <td>Harry Kane</td>\n",
       "      <td>0.297915</td>\n",
       "    </tr>\n",
       "    <tr>\n",
       "      <th>4</th>\n",
       "      <td>Troy Deeney</td>\n",
       "      <td>0.314603</td>\n",
       "    </tr>\n",
       "    <tr>\n",
       "      <th>...</th>\n",
       "      <td>...</td>\n",
       "      <td>...</td>\n",
       "    </tr>\n",
       "    <tr>\n",
       "      <th>188</th>\n",
       "      <td>Alex McCarthy</td>\n",
       "      <td>1.896625</td>\n",
       "    </tr>\n",
       "    <tr>\n",
       "      <th>189</th>\n",
       "      <td>Mathew Ryan</td>\n",
       "      <td>1.897377</td>\n",
       "    </tr>\n",
       "    <tr>\n",
       "      <th>190</th>\n",
       "      <td>Asmir Begović</td>\n",
       "      <td>1.899667</td>\n",
       "    </tr>\n",
       "    <tr>\n",
       "      <th>191</th>\n",
       "      <td>Hugo Lloris</td>\n",
       "      <td>1.905453</td>\n",
       "    </tr>\n",
       "    <tr>\n",
       "      <th>192</th>\n",
       "      <td>David de Gea Quintana</td>\n",
       "      <td>1.912968</td>\n",
       "    </tr>\n",
       "  </tbody>\n",
       "</table>\n",
       "<p>193 rows × 2 columns</p>\n",
       "</div>"
      ],
      "text/plain": [
       "                                  name      dist\n",
       "0    Sergio Leonel Agüero del Castillo  0.232574\n",
       "1            Gabriel Fernando de Jesus  0.235393\n",
       "2                          Jamie Vardy  0.289722\n",
       "3                           Harry Kane  0.297915\n",
       "4                          Troy Deeney  0.314603\n",
       "..                                 ...       ...\n",
       "188                      Alex McCarthy  1.896625\n",
       "189                        Mathew Ryan  1.897377\n",
       "190                      Asmir Begović  1.899667\n",
       "191                        Hugo Lloris  1.905453\n",
       "192              David de Gea Quintana  1.912968\n",
       "\n",
       "[193 rows x 2 columns]"
      ]
     },
     "execution_count": 26,
     "metadata": {},
     "output_type": "execute_result"
    }
   ],
   "source": [
    "get_similar_players(3202) # Similar to Jesus"
   ]
  }
 ],
 "metadata": {
  "kernelspec": {
   "display_name": "Python 3",
   "language": "python",
   "name": "python3"
  },
  "language_info": {
   "codemirror_mode": {
    "name": "ipython",
    "version": 3
   },
   "file_extension": ".py",
   "mimetype": "text/x-python",
   "name": "python",
   "nbconvert_exporter": "python",
   "pygments_lexer": "ipython3",
   "version": "3.7.1"
  },
  "varInspector": {
   "cols": {
    "lenName": 16,
    "lenType": 16,
    "lenVar": 40
   },
   "kernels_config": {
    "python": {
     "delete_cmd_postfix": "",
     "delete_cmd_prefix": "del ",
     "library": "var_list.py",
     "varRefreshCmd": "print(var_dic_list())"
    },
    "r": {
     "delete_cmd_postfix": ") ",
     "delete_cmd_prefix": "rm(",
     "library": "var_list.r",
     "varRefreshCmd": "cat(var_dic_list()) "
    }
   },
   "types_to_exclude": [
    "module",
    "function",
    "builtin_function_or_method",
    "instance",
    "_Feature"
   ],
   "window_display": false
  }
 },
 "nbformat": 4,
 "nbformat_minor": 4
}
